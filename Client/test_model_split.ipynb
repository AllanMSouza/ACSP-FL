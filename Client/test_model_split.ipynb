{
 "cells": [
  {
   "cell_type": "code",
   "execution_count": 3,
   "metadata": {},
   "outputs": [],
   "source": [
    "from model_definition import ModelCreation"
   ]
  },
  {
   "cell_type": "code",
   "execution_count": 4,
   "metadata": {},
   "outputs": [
    {
     "ename": "TypeError",
     "evalue": "ModelCreation.create_DNN() missing 2 required positional arguments: 'input_shape' and 'num_classes'",
     "output_type": "error",
     "traceback": [
      "\u001b[1;31m---------------------------------------------------------------------------\u001b[0m",
      "\u001b[1;31mTypeError\u001b[0m                                 Traceback (most recent call last)",
      "Cell \u001b[1;32mIn[4], line 2\u001b[0m\n\u001b[0;32m      1\u001b[0m MC \u001b[39m=\u001b[39m ModelCreation()\n\u001b[1;32m----> 2\u001b[0m modelo \u001b[39m=\u001b[39m MC\u001b[39m.\u001b[39;49mcreate_DNN()\n",
      "\u001b[1;31mTypeError\u001b[0m: ModelCreation.create_DNN() missing 2 required positional arguments: 'input_shape' and 'num_classes'"
     ]
    }
   ],
   "source": [
    "MC = ModelCreation()\n",
    "modelo = MC.create_DNN()"
   ]
  },
  {
   "cell_type": "code",
   "execution_count": null,
   "metadata": {},
   "outputs": [],
   "source": []
  }
 ],
 "metadata": {
  "kernelspec": {
   "display_name": "base",
   "language": "python",
   "name": "python3"
  },
  "language_info": {
   "codemirror_mode": {
    "name": "ipython",
    "version": 3
   },
   "file_extension": ".py",
   "mimetype": "text/x-python",
   "name": "python",
   "nbconvert_exporter": "python",
   "pygments_lexer": "ipython3",
   "version": "3.10.5"
  },
  "orig_nbformat": 4
 },
 "nbformat": 4,
 "nbformat_minor": 2
}
